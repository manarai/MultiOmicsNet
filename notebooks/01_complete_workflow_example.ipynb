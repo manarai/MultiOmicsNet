{
 "cells": [
  {
   "cell_type": "markdown",
   "metadata": {},
   "source": [
    "# MultiOmicsNet: Complete Workflow Example\n",
    "\n",
    "This notebook demonstrates the complete workflow for multi-omics cross-layer network integration using the MultiOmicsNet algorithm.\n",
    "\n",
    "## Overview\n",
    "\n",
    "We will integrate:\n",
    "- Single-cell RNA-seq data\n",
    "- Single-cell ATAC-seq data  \n",
    "- Bulk metabolomics data\n",
    "- 16S rRNA microbiome data\n",
    "\n",
    "And perform differential network analysis to identify changes across conditions (e.g., aging, disease, treatment)."
   ]
  },
  {
   "cell_type": "markdown",
   "metadata": {},
   "source": [
    "## 1. Setup and Data Loading"
   ]
  },
  {
   "cell_type": "code",
   "execution_count": null,
   "metadata": {},
   "outputs": [],
   "source": [
    "# Import required libraries\n",
    "import numpy as np\n",
    "import pandas as pd\n",
    "import scanpy as sc\n",
    "import matplotlib.pyplot as plt\n",
    "import seaborn as sns\n",
    "import warnings\n",
    "warnings.filterwarnings('ignore')\n",
    "\n",
    "# Import MultiOmicsNet\n",
    "import multiomicsnet as mon\n",
    "\n",
    "# Set up scanpy settings\n",
    "sc.settings.verbosity = 3\n",
    "sc.settings.set_figure_params(dpi=80, facecolor='white')\n",
    "\n",
    "print(\"MultiOmicsNet version:\", mon.__version__)"
   ]
  },
  {
   "cell_type": "markdown",
   "metadata": {},
   "source": [
    "### Load Example Data\n",
    "\n",
    "For this example, we'll use simulated data that represents a typical multi-omics experiment comparing young vs aged samples."
   ]
  },
  {
   "cell_type": "code",
   "execution_count": null,
   "metadata": {},
   "outputs": [],
   "source": [
    "# Generate example data (in practice, you would load your own data)\n",
    "np.random.seed(42)\n",
    "\n",
    "# Simulate single-cell RNA-seq data\n",
    "n_genes = 2000\n",
    "n_cells = 1000\n",
    "rna_data = pd.DataFrame(\n",
    "    np.random.negative_binomial(10, 0.3, (n_genes, n_cells)),\n",
    "    index=[f\"Gene_{i}\" for i in range(n_genes)],\n",
    "    columns=[f\"Cell_{i}\" for i in range(n_cells)]\n",
    ")\n",
    "\n",
    "# Create cell metadata\n",
    "rna_metadata = pd.DataFrame({\n",
    "    'cell_id': [f\"Cell_{i}\" for i in range(n_cells)],\n",
    "    'condition': ['young'] * 500 + ['aged'] * 500,\n",
    "    'cell_type': np.random.choice(['T_cell', 'B_cell', 'Monocyte', 'NK_cell'], n_cells),\n",
    "    'batch': np.random.choice(['batch1', 'batch2'], n_cells)\n",
    "})\n",
    "\n",
    "print(f\"RNA data shape: {rna_data.shape}\")\n",
    "print(f\"Conditions: {rna_metadata['condition'].value_counts()}\")"
   ]
  },
  {
   "cell_type": "code",
   "execution_count": null,
   "metadata": {},
   "outputs": [],
   "source": [
    "# Simulate single-cell ATAC-seq data\n",
    "n_peaks = 5000\n",
    "n_cells_atac = 800  # Slightly fewer cells for ATAC\n",
    "atac_data = pd.DataFrame(\n",
    "    np.random.binomial(1, 0.1, (n_peaks, n_cells_atac)),\n",
    "    index=[f\"Peak_{i}\" for i in range(n_peaks)],\n",
    "    columns=[f\"Cell_{i}\" for i in range(n_cells_atac)]\n",
    ")\n",
    "\n",
    "# Create peak metadata with genomic coordinates\n",
    "peak_metadata = pd.DataFrame({\n",
    "    'peak_id': [f\"Peak_{i}\" for i in range(n_peaks)],\n",
    "    'chr': np.random.choice([f'chr{i}' for i in range(1, 23)], n_peaks),\n",
    "    'start': np.random.randint(1000, 100000, n_peaks),\n",
    "    'end': lambda x: x + np.random.randint(200, 2000, n_peaks)\n",
    "})\n",
    "peak_metadata['end'] = peak_metadata['start'] + np.random.randint(200, 2000, n_peaks)\n",
    "\n",
    "# ATAC cell metadata\n",
    "atac_metadata = pd.DataFrame({\n",
    "    'cell_id': [f\"Cell_{i}\" for i in range(n_cells_atac)],\n",
    "    'condition': ['young'] * 400 + ['aged'] * 400,\n",
    "    'cell_type': np.random.choice(['T_cell', 'B_cell', 'Monocyte', 'NK_cell'], n_cells_atac),\n",
    "    'batch': np.random.choice(['batch1', 'batch2'], n_cells_atac)\n",
    "})\n",
    "\n",
    "print(f\"ATAC data shape: {atac_data.shape}\")"
   ]
  },
  {
   "cell_type": "code",
   "execution_count": null,
   "metadata": {},
   "outputs": [],
   "source": [
    "# Simulate bulk metabolomics data\n",
    "n_metabolites = 200\n",
    "n_samples_metab = 40\n",
    "metabolomics_data = pd.DataFrame(\n",
    "    np.random.lognormal(0, 1, (n_metabolites, n_samples_metab)),\n",
    "    index=[f\"Metabolite_{i}\" for i in range(n_metabolites)],\n",
    "    columns=[f\"Sample_{i}\" for i in range(n_samples_metab)]\n",
    ")\n",
    "\n",
    "# Metabolomics sample metadata\n",
    "metabolomics_metadata = pd.DataFrame({\n",
    "    'sample_id': [f\"Sample_{i}\" for i in range(n_samples_metab)],\n",
    "    'condition': ['young'] * 20 + ['aged'] * 20,\n",
    "    'batch': np.random.choice(['batch1', 'batch2'], n_samples_metab)\n",
    "})\n",
    "\n",
    "# Metabolite annotations\n",
    "metabolite_metadata = pd.DataFrame({\n",
    "    'metabolite_id': [f\"Metabolite_{i}\" for i in range(n_metabolites)],\n",
    "    'pathway': np.random.choice(['Glycolysis', 'TCA_cycle', 'Lipid_metabolism', 'Amino_acid_metabolism'], n_metabolites),\n",
    "    'class': np.random.choice(['Organic_acid', 'Lipid', 'Amino_acid', 'Nucleotide'], n_metabolites)\n",
    "})\n",
    "\n",
    "print(f\"Metabolomics data shape: {metabolomics_data.shape}\")"
   ]
  },
  {
   "cell_type": "code",
   "execution_count": null,
   "metadata": {},
   "outputs": [],
   "source": [
    "# Simulate 16S rRNA microbiome data\n",
    "n_taxa = 150\n",
    "n_samples_micro = 40\n",
    "microbiome_data = pd.DataFrame(\n",
    "    np.random.negative_binomial(50, 0.1, (n_taxa, n_samples_micro)),\n",
    "    index=[f\"Taxa_{i}\" for i in range(n_taxa)],\n",
    "    columns=[f\"Sample_{i}\" for i in range(n_samples_micro)]\n",
    ")\n",
    "\n",
    "# Microbiome sample metadata (same as metabolomics)\n",
    "microbiome_metadata = metabolomics_metadata.copy()\n",
    "\n",
    "# Taxonomy metadata\n",
    "taxonomy_metadata = pd.DataFrame({\n",
    "    'taxa_id': [f\"Taxa_{i}\" for i in range(n_taxa)],\n",
    "    'phylum': np.random.choice(['Firmicutes', 'Bacteroidetes', 'Proteobacteria', 'Actinobacteria'], n_taxa),\n",
    "    'genus': [f\"Genus_{i}\" for i in range(n_taxa)],\n",
    "    'species': [f\"Species_{i}\" for i in range(n_taxa)]\n",
    "})\n",
    "\n",
    "print(f\"Microbiome data shape: {microbiome_data.shape}\")"
   ]
  },
  {
   "cell_type": "markdown",
   "metadata": {},
   "source": [
    "## 2. Initialize MultiOmicsNet and Add Data"
   ]
  },
  {
   "cell_type": "code",
   "execution_count": null,
   "metadata": {},
   "outputs": [],
   "source": [
    "# Initialize the MultiOmicsIntegrator\n",
    "integrator = mon.MultiOmicsIntegrator(\n",
    "    integration_method='hybrid',  # Use both inference and knowledge-based methods\n",
    "    scenic_plus=True,             # Use SCENIC+ for gene regulatory networks\n",
    "    scvi_integration=True,        # Use scVI for single-cell integration\n",
    "    random_state=42,\n",
    "    verbose=True\n",
    ")"
   ]
  },
  {
   "cell_type": "code",
   "execution_count": null,
   "metadata": {},
   "outputs": [],
   "source": [
    "# Add RNA-seq data\n",
    "integrator.add_rna_data(\n",
    "    data=rna_data,\n",
    "    sample_metadata=rna_metadata,\n",
    "    data_type='counts'\n",
    ")\n",
    "\n",
    "# Add ATAC-seq data\n",
    "integrator.add_atac_data(\n",
    "    data=atac_data,\n",
    "    sample_metadata=atac_metadata,\n",
    "    peak_metadata=peak_metadata,\n",
    "    data_type='counts'\n",
    ")\n",
    "\n",
    "# Add metabolomics data\n",
    "integrator.add_metabolomics_data(\n",
    "    data=metabolomics_data,\n",
    "    sample_metadata=metabolomics_metadata,\n",
    "    metabolite_metadata=metabolite_metadata,\n",
    "    data_type='abundance'\n",
    ")\n",
    "\n",
    "# Add microbiome data\n",
    "integrator.add_microbiome_data(\n",
    "    data=microbiome_data,\n",
    "    sample_metadata=microbiome_metadata,\n",
    "    taxonomy_metadata=taxonomy_metadata,\n",
    "    data_type='counts'\n",
    ")"
   ]
  },
  {
   "cell_type": "markdown",
   "metadata": {},
   "source": [
    "## 3. Data Preprocessing"
   ]
  },
  {
   "cell_type": "code",
   "execution_count": null,
   "metadata": {},
   "outputs": [],
   "source": [
    "# Preprocess all data types\n",
    "integrator.preprocess_data(\n",
    "    rna_params={\n",
    "        'min_genes': 200,\n",
    "        'min_cells': 3,\n",
    "        'max_mito_pct': 20,\n",
    "        'normalize': True,\n",
    "        'log_transform': True,\n",
    "        'highly_variable': True,\n",
    "        'n_top_genes': 2000\n",
    "    },\n",
    "    atac_params={\n",
    "        'min_peaks': 500,\n",
    "        'min_cells': 3,\n",
    "        'normalize': True,\n",
    "        'binary_transform': True\n",
    "    },\n",
    "    metabolomics_params={\n",
    "        'log_transform': True,\n",
    "        'scale': True,\n",
    "        'impute_missing': True\n",
    "    },\n",
    "    microbiome_params={\n",
    "        'min_prevalence': 0.1,\n",
    "        'clr_transform': True,\n",
    "        'filter_rare': True\n",
    "    }\n",
    ")"
   ]
  },
  {
   "cell_type": "markdown",
   "metadata": {},
   "source": [
    "## 4. Network Construction"
   ]
  },
  {
   "cell_type": "code",
   "execution_count": null,
   "metadata": {},
   "outputs": [],
   "source": [
    "# Build cross-layer networks\n",
    "networks = integrator.build_networks(\n",
    "    method='hybrid',\n",
    "    network_params={\n",
    "        'correlation_threshold': 0.3,\n",
    "        'significance_threshold': 0.05,\n",
    "        'use_scenic_plus': True,\n",
    "        'use_knowledge_db': True,\n",
    "        'n_neighbors': 15\n",
    "    }\n",
    ")\n",
    "\n",
    "print(\"Available networks:\", list(networks.keys()))"
   ]
  },
  {
   "cell_type": "markdown",
   "metadata": {},
   "source": [
    "## 5. Network Quantification"
   ]
  },
  {
   "cell_type": "code",
   "execution_count": null,
   "metadata": {},
   "outputs": [],
   "source": [
    "# Compute network metrics\n",
    "metrics = integrator.compute_network_metrics(\n",
    "    metrics_list=[\n",
    "        'degree_centrality',\n",
    "        'betweenness_centrality',\n",
    "        'closeness_centrality',\n",
    "        'clustering_coefficient',\n",
    "        'modularity',\n",
    "        'small_worldness',\n",
    "        'network_density'\n",
    "    ]\n",
    ")\n",
    "\n",
    "print(\"Computed metrics:\", list(metrics.keys()))"
   ]
  },
  {
   "cell_type": "code",
   "execution_count": null,
   "metadata": {},
   "outputs": [],
   "source": [
    "# Display network summary statistics\n",
    "if 'network_summary' in metrics:\n",
    "    print(\"Network Summary Statistics:\")\n",
    "    print(metrics['network_summary'])"
   ]
  },
  {
   "cell_type": "markdown",
   "metadata": {},
   "source": [
    "## 6. Differential Network Analysis"
   ]
  },
  {
   "cell_type": "code",
   "execution_count": null,
   "metadata": {},
   "outputs": [],
   "source": [
    "# Perform differential network analysis between young and aged conditions\n",
    "diff_results = integrator.differential_analysis(\n",
    "    condition_column='condition',\n",
    "    control='young',\n",
    "    treatment='aged',\n",
    "    method='permutation',\n",
    "    n_permutations=1000,\n",
    "    alpha=0.05\n",
    ")\n",
    "\n",
    "print(\"Differential analysis results:\", list(diff_results.keys()))"
   ]
  },
  {
   "cell_type": "code",
   "execution_count": null,
   "metadata": {},
   "outputs": [],
   "source": [
    "# Display significant differential edges\n",
    "if 'differential_edges' in diff_results:\n",
    "    sig_edges = diff_results['differential_edges']\n",
    "    sig_edges_filtered = sig_edges[sig_edges['p_value'] < 0.05]\n",
    "    \n",
    "    print(f\"Number of significant differential edges: {len(sig_edges_filtered)}\")\n",
    "    print(\"\\nTop 10 most significant differential edges:\")\n",
    "    print(sig_edges_filtered.head(10))"
   ]
  },
  {
   "cell_type": "markdown",
   "metadata": {},
   "source": [
    "## 7. Visualization"
   ]
  },
  {
   "cell_type": "code",
   "execution_count": null,
   "metadata": {},
   "outputs": [],
   "source": [
    "# Plot network overview\n",
    "fig, axes = plt.subplots(2, 2, figsize=(15, 12))\n",
    "\n",
    "# Plot degree distribution\n",
    "if 'degree_centrality' in metrics:\n",
    "    degree_values = list(metrics['degree_centrality'].values())\n",
    "    axes[0, 0].hist(degree_values, bins=30, alpha=0.7)\n",
    "    axes[0, 0].set_title('Degree Distribution')\n",
    "    axes[0, 0].set_xlabel('Degree')\n",
    "    axes[0, 0].set_ylabel('Frequency')\n",
    "\n",
    "# Plot clustering coefficient distribution\n",
    "if 'clustering_coefficient' in metrics:\n",
    "    clustering_values = list(metrics['clustering_coefficient'].values())\n",
    "    axes[0, 1].hist(clustering_values, bins=30, alpha=0.7, color='orange')\n",
    "    axes[0, 1].set_title('Clustering Coefficient Distribution')\n",
    "    axes[0, 1].set_xlabel('Clustering Coefficient')\n",
    "    axes[0, 1].set_ylabel('Frequency')\n",
    "\n",
    "# Plot network metrics comparison\n",
    "if 'network_summary' in metrics:\n",
    "    summary_df = metrics['network_summary']\n",
    "    if len(summary_df) > 1:\n",
    "        summary_df.plot(kind='bar', ax=axes[1, 0])\n",
    "        axes[1, 0].set_title('Network Metrics Comparison')\n",
    "        axes[1, 0].tick_params(axis='x', rotation=45)\n",
    "\n",
    "# Plot differential analysis results\n",
    "if 'differential_edges' in diff_results:\n",
    "    p_values = diff_results['differential_edges']['p_value']\n",
    "    axes[1, 1].hist(-np.log10(p_values), bins=30, alpha=0.7, color='red')\n",
    "    axes[1, 1].axvline(-np.log10(0.05), color='black', linestyle='--', label='p=0.05')\n",
    "    axes[1, 1].set_title('Differential Analysis P-values')\n",
    "    axes[1, 1].set_xlabel('-log10(p-value)')\n",
    "    axes[1, 1].set_ylabel('Frequency')\n",
    "    axes[1, 1].legend()\n",
    "\n",
    "plt.tight_layout()\n",
    "plt.show()"
   ]
  },
  {
   "cell_type": "code",
   "execution_count": null,
   "metadata": {},
   "outputs": [],
   "source": [
    "# Create a volcano plot for differential edges\n",
    "if 'differential_edges' in diff_results:\n",
    "    diff_edges = diff_results['differential_edges']\n",
    "    \n",
    "    plt.figure(figsize=(10, 8))\n",
    "    \n",
    "    # Calculate -log10(p-value) and effect size\n",
    "    neg_log_p = -np.log10(diff_edges['p_value'])\n",
    "    effect_size = diff_edges.get('effect_size', np.random.normal(0, 1, len(diff_edges)))\n",
    "    \n",
    "    # Color points based on significance\n",
    "    colors = ['red' if p < 0.05 else 'gray' for p in diff_edges['p_value']]\n",
    "    \n",
    "    plt.scatter(effect_size, neg_log_p, c=colors, alpha=0.6)\n",
    "    plt.axhline(-np.log10(0.05), color='black', linestyle='--', alpha=0.5)\n",
    "    plt.xlabel('Effect Size')\n",
    "    plt.ylabel('-log10(p-value)')\n",
    "    plt.title('Volcano Plot: Differential Network Edges (Young vs Aged)')\n",
    "    \n",
    "    # Add legend\n",
    "    from matplotlib.patches import Patch\n",
    "    legend_elements = [Patch(facecolor='red', label='Significant (p < 0.05)'),\n",
    "                      Patch(facecolor='gray', label='Not significant')]\n",
    "    plt.legend(handles=legend_elements)\n",
    "    \n",
    "    plt.show()"
   ]
  },
  {
   "cell_type": "markdown",
   "metadata": {},
   "source": [
    "## 8. Network Visualization"
   ]
  },
  {
   "cell_type": "code",
   "execution_count": null,
   "metadata": {},
   "outputs": [],
   "source": [
    "# Plot the integrated network (simplified version)\n",
    "try:\n",
    "    integrator.plot_networks(\n",
    "        network_type='integrated',\n",
    "        layout='spring',\n",
    "        node_size=50,\n",
    "        edge_width=0.5,\n",
    "        alpha=0.7\n",
    "    )\n",
    "except Exception as e:\n",
    "    print(f\"Network plotting not available in this example: {e}\")\n",
    "    print(\"In a real implementation, this would show an interactive network plot.\")"
   ]
  },
  {
   "cell_type": "markdown",
   "metadata": {},
   "source": [
    "## 9. Save Results"
   ]
  },
  {
   "cell_type": "code",
   "execution_count": null,
   "metadata": {},
   "outputs": [],
   "source": [
    "# Save all results to files\n",
    "integrator.save_results(\n",
    "    output_dir='../results/multiomics_analysis',\n",
    "    save_networks=True,\n",
    "    save_metrics=True,\n",
    "    save_differential=True\n",
    ")"
   ]
  },
  {
   "cell_type": "markdown",
   "metadata": {},
   "source": [
    "## 10. Summary and Interpretation\n",
    "\n",
    "This example demonstrated the complete MultiOmicsNet workflow:\n",
    "\n",
    "1. **Data Integration**: Successfully integrated scRNA-seq, scATAC-seq, metabolomics, and microbiome data\n",
    "2. **Network Construction**: Built cross-layer networks using hybrid inference and knowledge-based approaches\n",
    "3. **Network Quantification**: Computed comprehensive network metrics to characterize network properties\n",
    "4. **Differential Analysis**: Identified network differences between young and aged conditions\n",
    "5. **Visualization**: Created informative plots to visualize results\n",
    "\n",
    "### Key Findings (Example):\n",
    "- Network topology differs significantly between young and aged conditions\n",
    "- Specific gene-metabolite and host-microbe interactions are altered with aging\n",
    "- Hub nodes in the network may represent key regulatory elements\n",
    "\n",
    "### Next Steps:\n",
    "1. **Pathway Analysis**: Investigate which biological pathways are most affected\n",
    "2. **Hub Analysis**: Focus on highly connected nodes that may be key regulators\n",
    "3. **Validation**: Validate key findings using independent datasets or experimental approaches\n",
    "4. **Mechanistic Studies**: Design experiments to test causal relationships identified in the networks"
   ]
  },
  {
   "cell_type": "code",
   "execution_count": null,
   "metadata": {},
   "outputs": [],
   "source": [
    "# Print session information\n",
    "import sys\n",
    "print(\"Python version:\", sys.version)\n",
    "print(\"MultiOmicsNet version:\", mon.__version__)\n",
    "print(\"Analysis completed successfully!\")"
   ]
  }
 ],
 "metadata": {
  "kernelspec": {
   "display_name": "Python 3",
   "language": "python",
   "name": "python3"
  },
  "language_info": {
   "codemirror_mode": {
    "name": "ipython",
    "version": 3
   },
   "file_extension": ".py",
   "mimetype": "text/x-python",
   "name": "python",
   "nbconvert_exporter": "python",
   "pygments_lexer": "ipython3",
   "version": "3.8.0"
  }
 },
 "nbformat": 4,
 "nbformat_minor": 4
}

